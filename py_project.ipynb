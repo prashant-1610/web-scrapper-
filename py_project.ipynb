{
 "cells": [
  {
   "cell_type": "code",
   "execution_count": null,
   "id": "fc16f877-f112-40ed-8e37-bd2143df5932",
   "metadata": {},
   "outputs": [],
   "source": [
    "import requests\n",
    "from bs4 import BeautifulSoup as bs\n",
    "from urllib.request import urlopen\n",
    "import logging"
   ]
  },
  {
   "cell_type": "code",
   "execution_count": null,
   "id": "99905d18-4b60-43a2-86fd-74de3c294591",
   "metadata": {},
   "outputs": [],
   "source": [
    "flipkart_url = \"https://www.flipkart.com/search?q=\" + \"iphone12pro\""
   ]
  },
  {
   "cell_type": "code",
   "execution_count": null,
   "id": "469b0a7e-5540-4e7e-aeec-bbadf7a1ce9c",
   "metadata": {},
   "outputs": [],
   "source": [
    "flipkart_url"
   ]
  },
  {
   "cell_type": "code",
   "execution_count": null,
   "id": "7872f612-5351-4ab6-9188-d1b5daf7fb52",
   "metadata": {},
   "outputs": [],
   "source": [
    "urlclient = urlopen(flipkart_url)"
   ]
  },
  {
   "cell_type": "code",
   "execution_count": null,
   "id": "e8ae7fae-66d8-40c9-871b-2626391ee2f9",
   "metadata": {},
   "outputs": [],
   "source": [
    "urlclient"
   ]
  },
  {
   "cell_type": "code",
   "execution_count": null,
   "id": "788b3733-445b-410f-9b87-215f5ff2fe06",
   "metadata": {},
   "outputs": [],
   "source": [
    "flipkart_page = urlclient.read()"
   ]
  },
  {
   "cell_type": "code",
   "execution_count": null,
   "id": "fe9e413f-4405-4187-bc6c-840fd8cbfd7b",
   "metadata": {},
   "outputs": [],
   "source": [
    "flipkart_html = bs(flipkart_page,\"html.parser\")"
   ]
  },
  {
   "cell_type": "code",
   "execution_count": null,
   "id": "4a17c953-6756-4f96-b729-458eab00a49d",
   "metadata": {},
   "outputs": [],
   "source": [
    "\"https://www.flipkart.com/\" + \"apple-iphone-12-green-64-gb/p/itmc8a19a9686173?pid=MOBFWBYZKK3EJPFW&lid=LSTMOBFWBYZKK3EJPFWVBZVKG&marketplace=FLIPKART&q=iphone+12&store=tyy%2F4io&srno=s_1_4&otracker=search&otracker1=search&fm=Search&iid=8455f045-2f50-46d2-abfe-53e895505bd2.MOBFWBYZKK3EJPFW.SEARCH&ppt=sp&ppn=sp&ssid=vr843a74lc0000001692382373004&qH=7b7504afcaf2e1ea\""
   ]
  },
  {
   "cell_type": "code",
   "execution_count": null,
   "id": "809b29f4-a328-406a-850d-85c7d8a5df8f",
   "metadata": {},
   "outputs": [],
   "source": [
    "bigbox = flipkart_html.find_all(\"div\" , {\"class\":\"_1AtVbE col-12-12\"})"
   ]
  },
  {
   "cell_type": "code",
   "execution_count": null,
   "id": "7ca280c6-2de0-4d4f-a84f-8671cf69dd05",
   "metadata": {},
   "outputs": [],
   "source": [
    "len(bigbox)"
   ]
  },
  {
   "cell_type": "code",
   "execution_count": null,
   "id": "1727dd82-98e5-4436-853a-da1a7c1639e2",
   "metadata": {},
   "outputs": [],
   "source": [
    "del bigbox[0:3]"
   ]
  },
  {
   "cell_type": "code",
   "execution_count": null,
   "id": "fa8cd646-5ea9-429a-8790-c5cd3ac33b77",
   "metadata": {},
   "outputs": [],
   "source": [
    "productlink = \"https://www.flipkart.com\" + bigbox[5].div.div.div.a['href']"
   ]
  },
  {
   "cell_type": "code",
   "execution_count": null,
   "id": "a647b777-d21a-44f9-b545-13ec00315337",
   "metadata": {},
   "outputs": [],
   "source": [
    "product_req = requests.get(productlink)"
   ]
  },
  {
   "cell_type": "code",
   "execution_count": null,
   "id": "bf4a6c61-1967-445f-9096-aa46d38c77df",
   "metadata": {},
   "outputs": [],
   "source": [
    "productlink"
   ]
  },
  {
   "cell_type": "code",
   "execution_count": null,
   "id": "da528aa0-2f3b-4bf2-bfab-d1869c471d34",
   "metadata": {},
   "outputs": [],
   "source": [
    "for i in bigbox:\n",
    "    print(\"https://www.flipkart.com\" + i.div.div.div.a['href'])"
   ]
  },
  {
   "cell_type": "code",
   "execution_count": null,
   "id": "79599615-33c2-43e3-9128-3a6c722eac7a",
   "metadata": {},
   "outputs": [],
   "source": [
    "product_req.text"
   ]
  },
  {
   "cell_type": "code",
   "execution_count": null,
   "id": "30eb5182-7885-4daa-a082-4cd943837508",
   "metadata": {},
   "outputs": [],
   "source": [
    "product_html = bs(product_req.text,\"html.parser\")"
   ]
  },
  {
   "cell_type": "code",
   "execution_count": null,
   "id": "392ac23d-8bb1-41da-91bb-aa65789e93e3",
   "metadata": {},
   "outputs": [],
   "source": [
    "comment_box = product_html.find_all(\"div\", class_=\"_16PBlm\")"
   ]
  },
  {
   "cell_type": "code",
   "execution_count": null,
   "id": "cec3741f-702f-46b7-b402-93adea07ddc0",
   "metadata": {},
   "outputs": [],
   "source": [
    "len(comment_box)"
   ]
  },
  {
   "cell_type": "code",
   "execution_count": null,
   "id": "f61c21e7-24dd-4f12-9907-c97b39a44335",
   "metadata": {},
   "outputs": [],
   "source": [
    "comment_box"
   ]
  },
  {
   "cell_type": "code",
   "execution_count": null,
   "id": "178fa03a-a24f-4730-936a-470e34bf03f0",
   "metadata": {},
   "outputs": [],
   "source": [
    "comment_box[0]"
   ]
  },
  {
   "cell_type": "code",
   "execution_count": null,
   "id": "ba4eb4a1-bc80-4ba5-bb91-f24fc26431ed",
   "metadata": {},
   "outputs": [],
   "source": [
    "comment_box[0].div.div.find_all(\"p\", class_=\"_2sc7ZR _2V5EHH\")"
   ]
  },
  {
   "cell_type": "code",
   "execution_count": null,
   "id": "46016820-906c-4233-9ea3-d9db0c0974e9",
   "metadata": {},
   "outputs": [],
   "source": [
    "comment_box[0].div.div.find_all(\"p\", class_=\"_2sc7ZR _2V5EHH\")[0].text"
   ]
  },
  {
   "cell_type": "code",
   "execution_count": null,
   "id": "a2ea3a2f-b87d-4a07-a1fb-2a690af9e892",
   "metadata": {},
   "outputs": [],
   "source": [
    "for i in comment_box:\n",
    "    print(i.div.div.find_all(\"p\", class_=\"_2sc7ZR _2V5EHH\")[0].text)"
   ]
  },
  {
   "cell_type": "code",
   "execution_count": null,
   "id": "b1ebae34-e3f9-4fff-b859-6df769917ead",
   "metadata": {},
   "outputs": [],
   "source": [
    "comment_box[0].div.div.div.div.text"
   ]
  },
  {
   "cell_type": "code",
   "execution_count": null,
   "id": "14ab6066-45c4-4f27-a9d9-f1cccfa2d1b9",
   "metadata": {
    "scrolled": true
   },
   "outputs": [],
   "source": [
    "for i in comment_box:\n",
    "    print(i.div.div.div.div.text)"
   ]
  },
  {
   "cell_type": "code",
   "execution_count": null,
   "id": "f900e2e7-ad09-4d84-afd7-566dad9b299f",
   "metadata": {},
   "outputs": [],
   "source": [
    "comment_box[0].div.div.div.p.text"
   ]
  },
  {
   "cell_type": "code",
   "execution_count": null,
   "id": "b5e7ef8f-d7c6-4c62-aba8-4267413525b7",
   "metadata": {},
   "outputs": [],
   "source": [
    "for i in comment_box:\n",
    "    print(i.div.div.div.p.text)"
   ]
  },
  {
   "cell_type": "code",
   "execution_count": null,
   "id": "ee499c43-1c3c-4bbd-9c4e-f04881ba211c",
   "metadata": {},
   "outputs": [],
   "source": [
    "comment_box[0].div.div.find_all(\"div\",class_='')[0].text"
   ]
  },
  {
   "cell_type": "code",
   "execution_count": null,
   "id": "00c26cef-1d7b-42d0-949c-c625c1132bcf",
   "metadata": {},
   "outputs": [],
   "source": [
    "for i in comment_box:\n",
    "    print(i.div.div.find_all(\"div\",class_='')[0].text)"
   ]
  },
  {
   "cell_type": "code",
   "execution_count": null,
   "id": "edde454f-4486-42b6-8554-699d92c1766c",
   "metadata": {},
   "outputs": [],
   "source": []
  }
 ],
 "metadata": {
  "kernelspec": {
   "display_name": "Python 3 (ipykernel)",
   "language": "python",
   "name": "python3"
  },
  "language_info": {
   "codemirror_mode": {
    "name": "ipython",
    "version": 3
   },
   "file_extension": ".py",
   "mimetype": "text/x-python",
   "name": "python",
   "nbconvert_exporter": "python",
   "pygments_lexer": "ipython3",
   "version": "3.10.11"
  }
 },
 "nbformat": 4,
 "nbformat_minor": 5
}
